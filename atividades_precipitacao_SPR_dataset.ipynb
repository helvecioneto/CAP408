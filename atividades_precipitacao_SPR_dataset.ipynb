{
 "cells": [
  {
   "cell_type": "markdown",
   "id": "45cab1c1",
   "metadata": {},
   "source": [
    "# Atividades por Grupo - Estimativa de Precipitação com SPR Dataset"
   ]
  },
  {
   "cell_type": "markdown",
   "id": "fc20b269",
   "metadata": {},
   "source": [
    "## Grupo 1: Rede Neural Artificial (RNA, non-CNN)."
   ]
  },
  {
   "cell_type": "markdown",
   "id": "31ab5529",
   "metadata": {},
   "source": [
    "### Issue 1: Revisão Bibliográfica - Estimativa de Precipitação com RNA\n",
    "\n",
    "**Descrição**: Revisar literatura sobre redes neurais artificiais aplicadas à estimativa de precipitação e ao uso de dados de satélite. Identificar abordagens anteriores e possíveis melhorias.\n",
    "\n",
    "**Atividades**:\n",
    "- Pesquisa de artigos sobre RNA e estimativa de precipitação.\n",
    "- Síntese de técnicas aplicadas e algoritmos populares.\n",
    "- Elaboração de uma revisão bibliográfica.\n",
    "\n",
    "**Responsável**: [Nome do responsável]\n",
    "\n",
    "**Prazo**: [Data]"
   ]
  },
  {
   "cell_type": "markdown",
   "id": "b7c34631",
   "metadata": {},
   "source": [
    "---\n",
    "\n",
    "### Issue 2: Pré-processamento dos Dados SPR para RNA\n",
    "\n",
    "**Descrição**: Preparar os dados do benchmark SPR para uso no modelo de RNA, incluindo normalização, tratamento de valores ausentes e formatação das entradas temporais.\n",
    "\n",
    "**Atividades**:\n",
    "- Analisar o formato dos dados do SPR.\n",
    "- Implementar métodos de limpeza e normalização.\n",
    "- Definir os inputs para a RNA com variáveis temporais e ambientais.\n",
    "\n",
    "**Responsável**: [Nome do responsável]\n",
    "\n",
    "**Prazo**: [Data]"
   ]
  },
  {
   "cell_type": "markdown",
   "id": "c0875d3f",
   "metadata": {},
   "source": [
    "---\n",
    "\n",
    "### Issue 3: Implementação do Modelo de RNA\n",
    "\n",
    "**Descrição**: Desenvolver o modelo de RNA para estimativa de precipitação usando os dados do SPR.\n",
    "\n",
    "**Atividades**:\n",
    "- Definir arquitetura da RNA com base na revisão bibliográfica e no portfólio de algoritmos da NVIDIA.\n",
    "- Implementar o modelo com base nos recursos computacionais disponíveis.\n",
    "- Treinar o modelo com múltiplos passos de tempo e ajustar hiperparâmetros.\n",
    "\n",
    "**Responsável**: [Nome do responsável]\n",
    "\n",
    "**Prazo**: [Data]"
   ]
  },
  {
   "cell_type": "markdown",
   "id": "41f78f17",
   "metadata": {},
   "source": [
    "---\n",
    "\n",
    "### Issue 4: Validação e Avaliação do Modelo de RNA\n",
    "\n",
    "**Descrição**: Avaliar a performance do modelo de RNA usando o dataset de teste do SPR.\n",
    "\n",
    "**Atividades**:\n",
    "- Implementar métricas de validação como MAE, RMSE, etc.\n",
    "- Comparar estimativas do modelo com dados observados disponibilizados no SPR.\n",
    "- Gerar relatórios de desempenho e gráficos de validação.\n",
    "\n",
    "**Responsável**: [Nome do responsável]\n",
    "\n",
    "**Prazo**: [Data]"
   ]
  },
  {
   "cell_type": "markdown",
   "id": "f721a063",
   "metadata": {},
   "source": [
    "---\n",
    "\n",
    "### Issue 5: Explicação e Interpretação do Modelo de RNA\n",
    "\n",
    "**Descrição**: Implementar métodos de explicação para entender o impacto das variáveis no modelo de RNA.\n",
    "\n",
    "**Atividades**:\n",
    "- Utilizar o portfólio da NVIDIA para definir importância das variáveis.\n",
    "- Analisar a importância das variáveis ambientais e temporais.\n",
    "- Documentar resultados para inclusão nas conclusões do artigo.\n",
    "\n",
    "**Responsável**: [Nome do responsável]\n",
    "\n",
    "**Prazo**: [Data]"
   ]
  },
  {
   "cell_type": "markdown",
   "id": "9583e63b",
   "metadata": {},
   "source": [
    "---\n",
    "\n",
    "## Grupo 2: Rede Neural Convolucional (CNN)\n",
    "\n",
    "### Issue 1: Revisão Bibliográfica - Estimativa de Precipitação com CNN\n",
    "\n",
    "**Descrição**: Revisar a literatura sobre redes neurais convolucionais aplicadas à estimativa de precipitação e ao uso de imagens de satélite.\n",
    "\n",
    "**Atividades**:\n",
    "- Pesquisa de artigos sobre CNN em dados de satélite e estimativa de precipitação.\n",
    "- Síntese de algoritmos convolucionais aplicados a imagens e séries temporais.\n",
    "- Elaboração de uma revisão bibliográfica.\n",
    "\n",
    "**Responsável**: [Nome do responsável]\n",
    "\n",
    "**Prazo**: [Data]"
   ]
  },
  {
   "cell_type": "markdown",
   "id": "d824245d",
   "metadata": {},
   "source": [
    "---\n",
    "\n",
    "### Issue 2: Pré-processamento dos Dados SPR para CNN\n",
    "\n",
    "**Descrição**: Preparar os dados do benchmark SPR para uso no modelo de CNN, incluindo o processamento de imagens.\n",
    "\n",
    "**Atividades**:\n",
    "- Analisar o formato das imagens e variáveis no SPR.\n",
    "- Implementar pipelines de pré-processamento para imagens.\n",
    "- Definir os inputs espaciais e temporais para o modelo de CNN.\n",
    "\n",
    "**Responsável**: [Nome do responsável]\n",
    "\n",
    "**Prazo**: [Data]"
   ]
  },
  {
   "cell_type": "markdown",
   "id": "495d83bd",
   "metadata": {},
   "source": [
    "---\n",
    "\n",
    "### Issue 3: Implementação do Modelo de CNN\n",
    "\n",
    "**Descrição**: Desenvolver a CNN para estimativa de precipitação utilizando os dados disponíveis.\n",
    "\n",
    "**Atividades**:\n",
    "- Definir a arquitetura convolucional com base nas técnicas revisadas.\n",
    "- Implementar o modelo utilizando o portfólio da NVIDIA.\n",
    "- Treinar a CNN com múltiplas camadas e ajustando hiperparâmetros.\n",
    "\n",
    "**Responsável**: [Nome do responsável]\n",
    "\n",
    "**Prazo**: [Data]"
   ]
  },
  {
   "cell_type": "markdown",
   "id": "57ef920c",
   "metadata": {},
   "source": [
    "---\n",
    "\n",
    "### Issue 4: Validação e Avaliação do Modelo de CNN\n",
    "\n",
    "**Descrição**: Avaliar a performance da CNN usando o dataset de teste do SPR.\n",
    "\n",
    "**Atividades**:\n",
    "- Aplicar métricas de avaliação como MAE, RMSE, CSI, etc.\n",
    "- Comparar estimativas com observações.\n",
    "- Gerar relatórios de desempenho e gráficos de validação.\n",
    "\n",
    "**Responsável**: [Nome do responsável]\n",
    "\n",
    "**Prazo**: [Data]"
   ]
  },
  {
   "cell_type": "markdown",
   "id": "62d9ef14",
   "metadata": {},
   "source": [
    "---\n",
    "\n",
    "### Issue 5: Explicação e Interpretação do Modelo de CNN\n",
    "\n",
    "**Descrição**: Implementar métodos de explicação e análise do modelo de CNN.\n",
    "\n",
    "**Atividades**:\n",
    "- Utilizar ferramentas da NVIDIA para aplicar as variáveis no modelo convolucional.\n",
    "- Avaliar o impacto das variáveis no desempenho do modelo.\n",
    "- Documentar resultados e incluir nas conclusões do artigo.\n",
    "\n",
    "**Responsável**: [Nome do responsável]\n",
    "\n",
    "**Prazo**: [Data]"
   ]
  },
  {
   "cell_type": "markdown",
   "id": "6cab7c22",
   "metadata": {},
   "source": [
    "---\n",
    "\n",
    "## Atividades Conjuntas (Grupo 1 e Grupo 2)\n",
    "\n",
    "### Issue 1: Comparação de Performance Entre RNA e CNN\n",
    "\n",
    "**Descrição**: Comparar a performance dos modelos de RNA e CNN em termos de precisão, explicabilidade e aplicabilidade.\n",
    "\n",
    "**Atividades**:\n",
    "- Reunir métricas de desempenho de ambos os modelos.\n",
    "- Analisar pontos fortes e fracos de cada abordagem.\n",
    "- Discutir implicações para futuras aplicações em previsão de precipitação.\n",
    "\n",
    "**Responsável**: [Nome do responsável]\n",
    "\n",
    "**Prazo**: [Data]"
   ]
  },
  {
   "cell_type": "markdown",
   "id": "b5017cde",
   "metadata": {},
   "source": [
    "---\n",
    "\n",
    "### Issue 2: Redação das Conclusões e Discussão\n",
    "\n",
    "**Descrição**: Unir esforços para redigir a parte final do artigo, incluindo as conclusões sobre os métodos aplicados.\n",
    "\n",
    "**Atividades**:\n",
    "- Integrar os resultados de ambos os grupos.\n",
    "- Elaborar uma seção de discussão comparando as duas abordagens.\n",
    "- Redigir as conclusões sobre os resultados e os métodos de explicação utilizados.\n",
    "\n",
    "**Responsável**: [Nome do responsável]\n",
    "\n",
    "**Prazo**: [Data]"
   ]
  }
 ],
 "metadata": {
  "language_info": {
   "name": "python"
  }
 },
 "nbformat": 4,
 "nbformat_minor": 5
}
